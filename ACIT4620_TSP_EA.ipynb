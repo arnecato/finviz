{
  "nbformat": 4,
  "nbformat_minor": 0,
  "metadata": {
    "colab": {
      "provenance": [],
      "authorship_tag": "ABX9TyO+R8YTcU2wluXGfuTBnuCB",
      "include_colab_link": true
    },
    "kernelspec": {
      "name": "python3",
      "display_name": "Python 3"
    },
    "language_info": {
      "name": "python"
    }
  },
  "cells": [
    {
      "cell_type": "markdown",
      "metadata": {
        "id": "view-in-github",
        "colab_type": "text"
      },
      "source": [
        "<a href=\"https://colab.research.google.com/github/arnecato/finviz/blob/main/ACIT4620_TSP_EA.ipynb\" target=\"_parent\"><img src=\"https://colab.research.google.com/assets/colab-badge.svg\" alt=\"Open In Colab\"/></a>"
      ]
    },
    {
      "cell_type": "code",
      "execution_count": 2,
      "metadata": {
        "colab": {
          "base_uri": "https://localhost:8080/",
          "height": 245
        },
        "id": "ECF0XBOOdKhT",
        "outputId": "a5acc261-8721-4ef4-8723-6cd9243392dc"
      },
      "outputs": [
        {
          "output_type": "error",
          "ename": "TypeError",
          "evalue": "ignored",
          "traceback": [
            "\u001b[0;31m---------------------------------------------------------------------------\u001b[0m",
            "\u001b[0;31mTypeError\u001b[0m                                 Traceback (most recent call last)",
            "\u001b[0;32m<ipython-input-2-f61e3f9984cb>\u001b[0m in \u001b[0;36m<cell line: 32>\u001b[0;34m()\u001b[0m\n\u001b[1;32m     30\u001b[0m \u001b[0;34m\u001b[0m\u001b[0m\n\u001b[1;32m     31\u001b[0m \u001b[0mpopulation\u001b[0m \u001b[0;34m=\u001b[0m \u001b[0mgenerating_population\u001b[0m\u001b[0;34m(\u001b[0m\u001b[0mmax_cities\u001b[0m\u001b[0;34m)\u001b[0m\u001b[0;34m\u001b[0m\u001b[0;34m\u001b[0m\u001b[0m\n\u001b[0;32m---> 32\u001b[0;31m \u001b[0mplt\u001b[0m\u001b[0;34m(\u001b[0m\u001b[0mpopulation\u001b[0m\u001b[0;34m)\u001b[0m\u001b[0;34m\u001b[0m\u001b[0;34m\u001b[0m\u001b[0m\n\u001b[0m\u001b[1;32m     33\u001b[0m \u001b[0;34m\u001b[0m\u001b[0m\n\u001b[1;32m     34\u001b[0m \u001b[0;34m\u001b[0m\u001b[0m\n",
            "\u001b[0;31mTypeError\u001b[0m: 'module' object is not callable"
          ]
        }
      ],
      "source": [
        "'''\n",
        "Evolutionary cycle\n",
        "    Define representation of problem and fitness function\n",
        "    Generate population\n",
        "    Do: Evaluate fitness of each indvidual in population\n",
        "        Select best parents\n",
        "        Crossover (breed new individuals that are possible solutions to the problem)\n",
        "        Mutate (tweak each individual a bit)\n",
        "    Until: fitness is good enough or max number of iterations have been run\n",
        "\n",
        "The Traveling Salesman Problem:\n",
        "A salesman needs to visit x cities once and wants to travel by the shortest possible total path (distance) between the cities.\n",
        "\n",
        "Representation of problem and defining the fitness:\n",
        "Each city has x,y coordinates. We will place each city in am array representing the sequence the salesman will visit them,\n",
        "then calculate the distance between city in index 0 and 1, then 1 and 2, and so on. The fitness value is sum of all distances between\n",
        "the cities in the list.\n",
        "\n",
        "'''\n",
        "\n",
        "from numpy import random\n",
        "import matplotlib.pyplot as plt\n",
        "\n",
        "# global constraints\n",
        "max_coordinate = 100 # maximum value for a coordinate x and y\n",
        "max_cities = 10\n",
        "\n",
        "def generating_population(max_cities):\n",
        "    return random.randint(max_coordinate, size=(max_cities, 2))\n",
        "\n",
        "population = generating_population(max_cities)\n",
        "plt(population)\n",
        "\n",
        "\n",
        "\n",
        "\n",
        "\n"
      ]
    }
  ]
}